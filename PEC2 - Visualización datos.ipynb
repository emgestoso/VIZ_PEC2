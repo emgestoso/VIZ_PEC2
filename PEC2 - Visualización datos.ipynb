{
 "cells": [
  {
   "cell_type": "markdown",
   "id": "1c55688f",
   "metadata": {},
   "source": [
    "# Solución de la PEC2 de la asignatura Visualización de datos del Máster de Ciencia de Datos de la UOC.\n",
    "\n",
    "<div class=\"alert alert-block alert-info\">\n",
    "<strong>Nombre y apellidos: Enrique Martínez Gestoso</strong>\n",
    "</div>"
   ]
  },
  {
   "cell_type": "markdown",
   "id": "f5b06f95",
   "metadata": {},
   "source": [
    "**1. Bar Chart**"
   ]
  },
  {
   "cell_type": "code",
   "execution_count": 4,
   "id": "4589e2cc",
   "metadata": {},
   "outputs": [],
   "source": [
    "import numpy as np\n",
    "import pandas as pd\n",
    "\n",
    "# Visualizacion.\n",
    "import matplotlib\n",
    "import matplotlib.pyplot as plt\n",
    "\n",
    "%matplotlib inline"
   ]
  },
  {
   "cell_type": "code",
   "execution_count": 31,
   "id": "56b9968e",
   "metadata": {},
   "outputs": [
    {
     "data": {
      "text/html": [
       "<div>\n",
       "<style scoped>\n",
       "    .dataframe tbody tr th:only-of-type {\n",
       "        vertical-align: middle;\n",
       "    }\n",
       "\n",
       "    .dataframe tbody tr th {\n",
       "        vertical-align: top;\n",
       "    }\n",
       "\n",
       "    .dataframe thead th {\n",
       "        text-align: right;\n",
       "    }\n",
       "</style>\n",
       "<table border=\"1\" class=\"dataframe\">\n",
       "  <thead>\n",
       "    <tr style=\"text-align: right;\">\n",
       "      <th></th>\n",
       "      <th>&lt; 20</th>\n",
       "      <th>20-29</th>\n",
       "      <th>30-39</th>\n",
       "      <th>40-49</th>\n",
       "      <th>50-59</th>\n",
       "      <th>60-69</th>\n",
       "      <th>&gt;70</th>\n",
       "    </tr>\n",
       "  </thead>\n",
       "  <tbody>\n",
       "    <tr>\n",
       "      <th>Hombre</th>\n",
       "      <td>459</td>\n",
       "      <td>12086</td>\n",
       "      <td>29501</td>\n",
       "      <td>32647</td>\n",
       "      <td>31210</td>\n",
       "      <td>21289</td>\n",
       "      <td>29364</td>\n",
       "    </tr>\n",
       "    <tr>\n",
       "      <th>Mujer</th>\n",
       "      <td>446</td>\n",
       "      <td>13945</td>\n",
       "      <td>27571</td>\n",
       "      <td>27737</td>\n",
       "      <td>30549</td>\n",
       "      <td>37470</td>\n",
       "      <td>109964</td>\n",
       "    </tr>\n",
       "  </tbody>\n",
       "</table>\n",
       "</div>"
      ],
      "text/plain": [
       "        < 20  20-29  30-39  40-49  50-59  60-69     >70\n",
       "Hombre   459  12086  29501  32647  31210  21289   29364\n",
       "Mujer    446  13945  27571  27737  30549  37470  109964"
      ]
     },
     "execution_count": 31,
     "metadata": {},
     "output_type": "execute_result"
    }
   ],
   "source": [
    "df1 = pd.read_excel('C14150921.xls', sheet_name = \"H_Agreg\", header = 4, index_col = 0, usecols = \"B:I\")\n",
    "\n",
    "df1"
   ]
  },
  {
   "cell_type": "code",
   "execution_count": 29,
   "id": "acfef14d",
   "metadata": {},
   "outputs": [
    {
     "data": {
      "text/plain": [
       "[459, 12086, 29501, 32647, 31210, 21289, 29364]"
      ]
     },
     "execution_count": 29,
     "metadata": {},
     "output_type": "execute_result"
    }
   ],
   "source": [
    "list(df1.loc['Hombre'])"
   ]
  },
  {
   "cell_type": "code",
   "execution_count": 39,
   "id": "01640ce6",
   "metadata": {
    "scrolled": false
   },
   "outputs": [
    {
     "data": {
      "image/png": "[encoded data removed]",
      "text/plain": [
       "<Figure size 640x480 with 1 Axes>"
      ]
     },
     "metadata": {
      "needs_background": "light"
     },
     "output_type": "display_data"
    }
   ],
   "source": [
    "plt.figure(figsize=(8, 6), dpi=80)\n",
    "\n",
    "# set width of bars\n",
    "barWidth = 0.4\n",
    " \n",
    "# set heights of bars\n",
    "bars1 = list(df1.loc['Hombre'])\n",
    "bars2 = list(df1.loc['Mujer'])\n",
    "\n",
    "# Set position of bar on X axis\n",
    "r1 = np.arange(len(bars1))\n",
    "r2 = [x + barWidth for x in r1]\n",
    " \n",
    "# Make the plot\n",
    "plt.bar(r1, bars1, color='#f1a340', width=barWidth, edgecolor='white', label='Hombres')\n",
    "plt.bar(r2, bars2, color='#998ec3', width=barWidth, edgecolor='white', label='Mujeres')\n",
    "\n",
    "# Add xticks on the middle of the group bars\n",
    "plt.xlabel('Rango de edad')\n",
    "plt.ylabel('Número de personas')\n",
    "plt.title(\"Personas que viven solas en la ciudad de Madrid para cada sexo\", fontweight='bold', loc=\"center\")\n",
    "plt.xticks([r + barWidth for r in range(len(bars1))], list(df1.columns))\n",
    " \n",
    "# Create legend & show graphic\n",
    "plt.legend()\n",
    "plt.show()"
   ]
  },
  {
   "cell_type": "markdown",
   "id": "d986750c",
   "metadata": {},
   "source": [
    "**2. Gantt Chart**\n",
    "\n",
    "Se realizará directamente en Tableau Public: \n",
    "\n",
    "https://public.tableau.com/app/profile/enrique.martinez.gestoso/viz/GanttChartPEC2/2_GanttChar?publish=yes"
   ]
  },
  {
   "cell_type": "markdown",
   "id": "7204dbec",
   "metadata": {},
   "source": [
    "**3. Chord Diagram**"
   ]
  },
  {
   "cell_type": "markdown",
   "id": "0cf41101",
   "metadata": {},
   "source": [
    "Preparación de los datos para usar en Flourish."
   ]
  },
  {
   "cell_type": "code",
   "execution_count": 77,
   "id": "b7253bed",
   "metadata": {},
   "outputs": [
    {
     "data": {
      "text/html": [
       "<div>\n",
       "<style scoped>\n",
       "    .dataframe tbody tr th:only-of-type {\n",
       "        vertical-align: middle;\n",
       "    }\n",
       "\n",
       "    .dataframe tbody tr th {\n",
       "        vertical-align: top;\n",
       "    }\n",
       "\n",
       "    .dataframe thead th {\n",
       "        text-align: right;\n",
       "    }\n",
       "</style>\n",
       "<table border=\"1\" class=\"dataframe\">\n",
       "  <thead>\n",
       "    <tr style=\"text-align: right;\">\n",
       "      <th></th>\n",
       "      <th>name</th>\n",
       "      <th>type1</th>\n",
       "      <th>type2</th>\n",
       "    </tr>\n",
       "  </thead>\n",
       "  <tbody>\n",
       "    <tr>\n",
       "      <th>0</th>\n",
       "      <td>Bulbasaur</td>\n",
       "      <td>grass</td>\n",
       "      <td>poison</td>\n",
       "    </tr>\n",
       "    <tr>\n",
       "      <th>1</th>\n",
       "      <td>Ivysaur</td>\n",
       "      <td>grass</td>\n",
       "      <td>poison</td>\n",
       "    </tr>\n",
       "    <tr>\n",
       "      <th>2</th>\n",
       "      <td>Venusaur</td>\n",
       "      <td>grass</td>\n",
       "      <td>poison</td>\n",
       "    </tr>\n",
       "    <tr>\n",
       "      <th>3</th>\n",
       "      <td>Charmander</td>\n",
       "      <td>fire</td>\n",
       "      <td>NaN</td>\n",
       "    </tr>\n",
       "    <tr>\n",
       "      <th>4</th>\n",
       "      <td>Charmeleon</td>\n",
       "      <td>fire</td>\n",
       "      <td>NaN</td>\n",
       "    </tr>\n",
       "    <tr>\n",
       "      <th>...</th>\n",
       "      <td>...</td>\n",
       "      <td>...</td>\n",
       "      <td>...</td>\n",
       "    </tr>\n",
       "    <tr>\n",
       "      <th>796</th>\n",
       "      <td>Celesteela</td>\n",
       "      <td>steel</td>\n",
       "      <td>flying</td>\n",
       "    </tr>\n",
       "    <tr>\n",
       "      <th>797</th>\n",
       "      <td>Kartana</td>\n",
       "      <td>grass</td>\n",
       "      <td>steel</td>\n",
       "    </tr>\n",
       "    <tr>\n",
       "      <th>798</th>\n",
       "      <td>Guzzlord</td>\n",
       "      <td>dark</td>\n",
       "      <td>dragon</td>\n",
       "    </tr>\n",
       "    <tr>\n",
       "      <th>799</th>\n",
       "      <td>Necrozma</td>\n",
       "      <td>psychic</td>\n",
       "      <td>NaN</td>\n",
       "    </tr>\n",
       "    <tr>\n",
       "      <th>800</th>\n",
       "      <td>Magearna</td>\n",
       "      <td>steel</td>\n",
       "      <td>fairy</td>\n",
       "    </tr>\n",
       "  </tbody>\n",
       "</table>\n",
       "<p>801 rows × 3 columns</p>\n",
       "</div>"
      ],
      "text/plain": [
       "           name    type1   type2\n",
       "0     Bulbasaur    grass  poison\n",
       "1       Ivysaur    grass  poison\n",
       "2      Venusaur    grass  poison\n",
       "3    Charmander     fire     NaN\n",
       "4    Charmeleon     fire     NaN\n",
       "..          ...      ...     ...\n",
       "796  Celesteela    steel  flying\n",
       "797     Kartana    grass   steel\n",
       "798    Guzzlord     dark  dragon\n",
       "799    Necrozma  psychic     NaN\n",
       "800    Magearna    steel   fairy\n",
       "\n",
       "[801 rows x 3 columns]"
      ]
     },
     "execution_count": 77,
     "metadata": {},
     "output_type": "execute_result"
    }
   ],
   "source": [
    "df2 = pd.read_csv('Pokemon/pokemon.csv')\n",
    "df2 = df2[[\"name\", \"type1\", \"type2\"]]\n",
    "df2"
   ]
  },
  {
   "cell_type": "code",
   "execution_count": 78,
   "id": "d57c2d25",
   "metadata": {},
   "outputs": [
    {
     "data": {
      "text/html": [
       "<div>\n",
       "<style scoped>\n",
       "    .dataframe tbody tr th:only-of-type {\n",
       "        vertical-align: middle;\n",
       "    }\n",
       "\n",
       "    .dataframe tbody tr th {\n",
       "        vertical-align: top;\n",
       "    }\n",
       "\n",
       "    .dataframe thead th {\n",
       "        text-align: right;\n",
       "    }\n",
       "</style>\n",
       "<table border=\"1\" class=\"dataframe\">\n",
       "  <thead>\n",
       "    <tr style=\"text-align: right;\">\n",
       "      <th></th>\n",
       "      <th>name</th>\n",
       "      <th>type1</th>\n",
       "      <th>type2</th>\n",
       "    </tr>\n",
       "  </thead>\n",
       "  <tbody>\n",
       "    <tr>\n",
       "      <th>0</th>\n",
       "      <td>Bulbasaur</td>\n",
       "      <td>grass</td>\n",
       "      <td>poison</td>\n",
       "    </tr>\n",
       "    <tr>\n",
       "      <th>1</th>\n",
       "      <td>Ivysaur</td>\n",
       "      <td>grass</td>\n",
       "      <td>poison</td>\n",
       "    </tr>\n",
       "    <tr>\n",
       "      <th>2</th>\n",
       "      <td>Venusaur</td>\n",
       "      <td>grass</td>\n",
       "      <td>poison</td>\n",
       "    </tr>\n",
       "    <tr>\n",
       "      <th>3</th>\n",
       "      <td>Charmander</td>\n",
       "      <td>fire</td>\n",
       "      <td>fire</td>\n",
       "    </tr>\n",
       "    <tr>\n",
       "      <th>4</th>\n",
       "      <td>Charmeleon</td>\n",
       "      <td>fire</td>\n",
       "      <td>fire</td>\n",
       "    </tr>\n",
       "    <tr>\n",
       "      <th>...</th>\n",
       "      <td>...</td>\n",
       "      <td>...</td>\n",
       "      <td>...</td>\n",
       "    </tr>\n",
       "    <tr>\n",
       "      <th>796</th>\n",
       "      <td>Celesteela</td>\n",
       "      <td>steel</td>\n",
       "      <td>flying</td>\n",
       "    </tr>\n",
       "    <tr>\n",
       "      <th>797</th>\n",
       "      <td>Kartana</td>\n",
       "      <td>grass</td>\n",
       "      <td>steel</td>\n",
       "    </tr>\n",
       "    <tr>\n",
       "      <th>798</th>\n",
       "      <td>Guzzlord</td>\n",
       "      <td>dark</td>\n",
       "      <td>dragon</td>\n",
       "    </tr>\n",
       "    <tr>\n",
       "      <th>799</th>\n",
       "      <td>Necrozma</td>\n",
       "      <td>psychic</td>\n",
       "      <td>psychic</td>\n",
       "    </tr>\n",
       "    <tr>\n",
       "      <th>800</th>\n",
       "      <td>Magearna</td>\n",
       "      <td>steel</td>\n",
       "      <td>fairy</td>\n",
       "    </tr>\n",
       "  </tbody>\n",
       "</table>\n",
       "<p>801 rows × 3 columns</p>\n",
       "</div>"
      ],
      "text/plain": [
       "           name    type1    type2\n",
       "0     Bulbasaur    grass   poison\n",
       "1       Ivysaur    grass   poison\n",
       "2      Venusaur    grass   poison\n",
       "3    Charmander     fire     fire\n",
       "4    Charmeleon     fire     fire\n",
       "..          ...      ...      ...\n",
       "796  Celesteela    steel   flying\n",
       "797     Kartana    grass    steel\n",
       "798    Guzzlord     dark   dragon\n",
       "799    Necrozma  psychic  psychic\n",
       "800    Magearna    steel    fairy\n",
       "\n",
       "[801 rows x 3 columns]"
      ]
     },
     "execution_count": 78,
     "metadata": {},
     "output_type": "execute_result"
    }
   ],
   "source": [
    "for i in range(1, len(df2)): \n",
    "    if pd.isna(df2.type2[i]): \n",
    "        df2.type2[i] = df2.type1[i]\n",
    "\n",
    "df2"
   ]
  },
  {
   "cell_type": "code",
   "execution_count": 86,
   "id": "0b148473",
   "metadata": {},
   "outputs": [
    {
     "name": "stdout",
     "output_type": "stream",
     "text": [
      "                 0\n",
      "type1 type2       \n",
      "bug   bug       18\n",
      "      electric   4\n",
      "      fairy      2\n",
      "      fighting   3\n",
      "      fire       2\n",
      "...             ..\n",
      "water poison     3\n",
      "      psychic    5\n",
      "      rock       4\n",
      "      steel      1\n",
      "      water     61\n",
      "\n",
      "[161 rows x 1 columns]\n"
     ]
    }
   ],
   "source": [
    "df3 = pd.DataFrame(df2.groupby(['type1','type2']).size())\n",
    "\n",
    "print(df3)\n",
    "\n",
    "pd.DataFrame.to_csv(df3, \"pokemon_chord.csv\")"
   ]
  },
  {
   "cell_type": "markdown",
   "id": "9cc58d67",
   "metadata": {},
   "source": [
    "Resultado:\n",
    "\n",
    "https://public.flourish.studio/visualisation/9389851/"
   ]
  }
 ],
 "metadata": {
  "kernelspec": {
   "display_name": "Python 3 (ipykernel)",
   "language": "python",
   "name": "python3"
  },
  "language_info": {
   "codemirror_mode": {
    "name": "ipython",
    "version": 3
   },
   "file_extension": ".py",
   "mimetype": "text/x-python",
   "name": "python",
   "nbconvert_exporter": "python",
   "pygments_lexer": "ipython3",
   "version": "3.9.7"
  }
 },
 "nbformat": 4,
 "nbformat_minor": 5
}
